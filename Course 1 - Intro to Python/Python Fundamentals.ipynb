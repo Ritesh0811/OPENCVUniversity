{
 "cells": [
  {
   "cell_type": "code",
   "execution_count": null,
   "id": "c559ce63",
   "metadata": {},
   "outputs": [],
   "source": [
    "import this"
   ]
  },
  {
   "cell_type": "code",
   "execution_count": null,
   "id": "a5469109",
   "metadata": {},
   "outputs": [],
   "source": [
    "import this"
   ]
  },
  {
   "cell_type": "code",
   "execution_count": null,
   "id": "6acacc9d",
   "metadata": {},
   "outputs": [],
   "source": [
    "import sys\n",
    "sys.getrefcount(obj) \n",
    "\n",
    "# It will check how many times obj is referred and once its count is 0 , garbage collector will remove it from memory."
   ]
  },
  {
   "cell_type": "code",
   "execution_count": 4,
   "id": "0c9ab025",
   "metadata": {},
   "outputs": [
    {
     "name": "stdout",
     "output_type": "stream",
     "text": [
      "['r', 'i', 't', 'e', 's', 'h']\n"
     ]
    }
   ],
   "source": [
    "val = 'ritesh'\n",
    "print(list(val))"
   ]
  },
  {
   "cell_type": "code",
   "execution_count": 5,
   "id": "654502f4",
   "metadata": {},
   "outputs": [
    {
     "name": "stdout",
     "output_type": "stream",
     "text": [
      "[1, 'two', 3]\n"
     ]
    }
   ],
   "source": [
    "name = [1, 'two', 3]\n",
    "print(name) #list"
   ]
  },
  {
   "cell_type": "code",
   "execution_count": 8,
   "id": "7711e354",
   "metadata": {},
   "outputs": [
    {
     "data": {
      "text/plain": [
       "('rit', 32, 'Pune')"
      ]
     },
     "execution_count": 8,
     "metadata": {},
     "output_type": "execute_result"
    }
   ],
   "source": [
    "person =  tuple(['rit', 32, 'Pune'])\n",
    "person #tuple"
   ]
  },
  {
   "cell_type": "code",
   "execution_count": 9,
   "id": "8c10e59a",
   "metadata": {},
   "outputs": [
    {
     "data": {
      "text/plain": [
       "{'one': 1, 'two': 2}"
      ]
     },
     "execution_count": 9,
     "metadata": {},
     "output_type": "execute_result"
    }
   ],
   "source": [
    "#dict\n",
    "ages = dict(zip(['one', 'two'],[1,2]))\n",
    "ages\n",
    "\n",
    "#ages = dict(name='string', age = 'int')\n",
    "#ages = {'name': 'string', 'age':'int'}"
   ]
  },
  {
   "cell_type": "code",
   "execution_count": 10,
   "id": "b492cfaa",
   "metadata": {},
   "outputs": [
    {
     "data": {
      "text/plain": [
       "{' ', 'a', 'e', 'f', 'h', 'i', 'l', 'm', 'o', 'p', 's', 't', 'x'}"
      ]
     },
     "execution_count": 10,
     "metadata": {},
     "output_type": "execute_result"
    }
   ],
   "source": [
    "#set\n",
    "unique = set('this is example of sets')\n",
    "unique"
   ]
  },
  {
   "cell_type": "code",
   "execution_count": 11,
   "id": "c27134ac",
   "metadata": {},
   "outputs": [
    {
     "name": "stdout",
     "output_type": "stream",
     "text": [
      "['ArithmeticError', 'AssertionError', 'AttributeError', 'BaseException', 'BlockingIOError', 'BrokenPipeError', 'BufferError', 'BytesWarning', 'ChildProcessError', 'ConnectionAbortedError', 'ConnectionError', 'ConnectionRefusedError', 'ConnectionResetError', 'DeprecationWarning', 'EOFError', 'Ellipsis', 'EnvironmentError', 'Exception', 'False', 'FileExistsError', 'FileNotFoundError', 'FloatingPointError', 'FutureWarning', 'GeneratorExit', 'IOError', 'ImportError', 'ImportWarning', 'IndentationError', 'IndexError', 'InterruptedError', 'IsADirectoryError', 'KeyError', 'KeyboardInterrupt', 'LookupError', 'MemoryError', 'ModuleNotFoundError', 'NameError', 'None', 'NotADirectoryError', 'NotImplemented', 'NotImplementedError', 'OSError', 'OverflowError', 'PendingDeprecationWarning', 'PermissionError', 'ProcessLookupError', 'RecursionError', 'ReferenceError', 'ResourceWarning', 'RuntimeError', 'RuntimeWarning', 'StopAsyncIteration', 'StopIteration', 'SyntaxError', 'SyntaxWarning', 'SystemError', 'SystemExit', 'TabError', 'TimeoutError', 'True', 'TypeError', 'UnboundLocalError', 'UnicodeDecodeError', 'UnicodeEncodeError', 'UnicodeError', 'UnicodeTranslateError', 'UnicodeWarning', 'UserWarning', 'ValueError', 'Warning', 'WindowsError', 'ZeroDivisionError', '__IPYTHON__', '__build_class__', '__debug__', '__doc__', '__import__', '__loader__', '__name__', '__package__', '__spec__', 'abs', 'all', 'any', 'ascii', 'bin', 'bool', 'breakpoint', 'bytearray', 'bytes', 'callable', 'chr', 'classmethod', 'compile', 'complex', 'copyright', 'credits', 'delattr', 'dict', 'dir', 'display', 'divmod', 'enumerate', 'eval', 'exec', 'execfile', 'filter', 'float', 'format', 'frozenset', 'get_ipython', 'getattr', 'globals', 'hasattr', 'hash', 'help', 'hex', 'id', 'input', 'int', 'isinstance', 'issubclass', 'iter', 'len', 'license', 'list', 'locals', 'map', 'max', 'memoryview', 'min', 'next', 'object', 'oct', 'open', 'ord', 'pow', 'print', 'property', 'range', 'repr', 'reversed', 'round', 'runfile', 'set', 'setattr', 'slice', 'sorted', 'staticmethod', 'str', 'sum', 'super', 'tuple', 'type', 'vars', 'zip']\n"
     ]
    }
   ],
   "source": [
    "#where are built-in constructors?\n",
    "print(dir(__builtins__))"
   ]
  },
  {
   "cell_type": "code",
   "execution_count": null,
   "id": "24aa0435",
   "metadata": {},
   "outputs": [],
   "source": [
    "PEP8 - Python Enhancement Proposal"
   ]
  },
  {
   "cell_type": "code",
   "execution_count": 12,
   "id": "77a603bb",
   "metadata": {},
   "outputs": [
    {
     "data": {
      "text/plain": [
       "1"
      ]
     },
     "execution_count": 12,
     "metadata": {},
     "output_type": "execute_result"
    }
   ],
   "source": [
    "561 % 2 #reminder"
   ]
  },
  {
   "cell_type": "code",
   "execution_count": 14,
   "id": "837e9d35",
   "metadata": {},
   "outputs": [
    {
     "name": "stdout",
     "output_type": "stream",
     "text": [
      "['__abs__', '__add__', '__and__', '__bool__', '__ceil__', '__class__', '__delattr__', '__dir__', '__divmod__', '__doc__', '__eq__', '__float__', '__floor__', '__floordiv__', '__format__', '__ge__', '__getattribute__', '__getnewargs__', '__gt__', '__hash__', '__index__', '__init__', '__init_subclass__', '__int__', '__invert__', '__le__', '__lshift__', '__lt__', '__mod__', '__mul__', '__ne__', '__neg__', '__new__', '__or__', '__pos__', '__pow__', '__radd__', '__rand__', '__rdivmod__', '__reduce__', '__reduce_ex__', '__repr__', '__rfloordiv__', '__rlshift__', '__rmod__', '__rmul__', '__ror__', '__round__', '__rpow__', '__rrshift__', '__rshift__', '__rsub__', '__rtruediv__', '__rxor__', '__setattr__', '__sizeof__', '__str__', '__sub__', '__subclasshook__', '__truediv__', '__trunc__', '__xor__', 'as_integer_ratio', 'bit_length', 'conjugate', 'denominator', 'from_bytes', 'imag', 'numerator', 'real', 'to_bytes']\n"
     ]
    }
   ],
   "source": [
    "print(dir(42)) ## as everything is an object, these are the methods we could use for integer operations"
   ]
  },
  {
   "cell_type": "code",
   "execution_count": 13,
   "id": "429d52be",
   "metadata": {},
   "outputs": [
    {
     "data": {
      "text/plain": [
       "52"
      ]
     },
     "execution_count": 13,
     "metadata": {},
     "output_type": "execute_result"
    }
   ],
   "source": [
    "(42).__add__(10)"
   ]
  },
  {
   "cell_type": "code",
   "execution_count": 17,
   "id": "e364efe2",
   "metadata": {},
   "outputs": [
    {
     "data": {
      "text/plain": [
       "'RITESH'"
      ]
     },
     "execution_count": 17,
     "metadata": {},
     "output_type": "execute_result"
    }
   ],
   "source": [
    "name = 'ritesh'\n",
    "name.upper()"
   ]
  },
  {
   "cell_type": "code",
   "execution_count": 18,
   "id": "49014e87",
   "metadata": {},
   "outputs": [
    {
     "data": {
      "text/plain": [
       "'Ritesh'"
      ]
     },
     "execution_count": 18,
     "metadata": {},
     "output_type": "execute_result"
    }
   ],
   "source": [
    "name.title()"
   ]
  },
  {
   "cell_type": "code",
   "execution_count": 24,
   "id": "faa8da46",
   "metadata": {},
   "outputs": [
    {
     "data": {
      "text/plain": [
       "2"
      ]
     },
     "execution_count": 24,
     "metadata": {},
     "output_type": "execute_result"
    }
   ],
   "source": [
    "name.find('t')"
   ]
  },
  {
   "cell_type": "code",
   "execution_count": 22,
   "id": "7c1be0cb",
   "metadata": {},
   "outputs": [
    {
     "data": {
      "text/plain": [
       "'r'"
      ]
     },
     "execution_count": 22,
     "metadata": {},
     "output_type": "execute_result"
    }
   ],
   "source": [
    "name[0]"
   ]
  },
  {
   "cell_type": "code",
   "execution_count": 23,
   "id": "49f8bb65",
   "metadata": {},
   "outputs": [
    {
     "data": {
      "text/plain": [
       "'h'"
      ]
     },
     "execution_count": 23,
     "metadata": {},
     "output_type": "execute_result"
    }
   ],
   "source": [
    "name[len(name)-1]"
   ]
  },
  {
   "cell_type": "code",
   "execution_count": 26,
   "id": "b4cbf446",
   "metadata": {},
   "outputs": [
    {
     "data": {
      "text/plain": [
       "'1100'"
      ]
     },
     "execution_count": 26,
     "metadata": {},
     "output_type": "execute_result"
    }
   ],
   "source": [
    "#convert integer to binary \n",
    "f\"{12:b}\""
   ]
  },
  {
   "cell_type": "code",
   "execution_count": 1,
   "id": "e4a7850f",
   "metadata": {},
   "outputs": [
    {
     "name": "stdout",
     "output_type": "stream",
     "text": [
      "Help on built-in function len in module builtins:\n",
      "\n",
      "len(obj, /)\n",
      "    Return the number of items in a container.\n",
      "\n"
     ]
    }
   ],
   "source": [
    "help(len)"
   ]
  },
  {
   "cell_type": "code",
   "execution_count": 3,
   "id": "9bc04927",
   "metadata": {},
   "outputs": [
    {
     "data": {
      "text/plain": [
       "15"
      ]
     },
     "execution_count": 3,
     "metadata": {},
     "output_type": "execute_result"
    }
   ],
   "source": [
    "def adder(a,b):\n",
    "    \"This does addition\"\n",
    "    \n",
    "    return a+b\n",
    "\n",
    "a = 5\n",
    "b = 10\n",
    "adder(5,10)"
   ]
  },
  {
   "cell_type": "code",
   "execution_count": 4,
   "id": "1885d066",
   "metadata": {},
   "outputs": [],
   "source": [
    "adder? # ? --> this ? gives function defination of any function"
   ]
  },
  {
   "cell_type": "code",
   "execution_count": 5,
   "id": "eb48cb98",
   "metadata": {},
   "outputs": [],
   "source": [
    "adder?? # ??  --> it gives source code of function"
   ]
  },
  {
   "cell_type": "code",
   "execution_count": 9,
   "id": "cef32e88",
   "metadata": {},
   "outputs": [
    {
     "data": {
      "text/plain": [
       "[2, 3, 4, 5]"
      ]
     },
     "execution_count": 9,
     "metadata": {},
     "output_type": "execute_result"
    }
   ],
   "source": [
    "list(range(2,6))"
   ]
  },
  {
   "cell_type": "code",
   "execution_count": 11,
   "id": "4e4fb915",
   "metadata": {},
   "outputs": [
    {
     "name": "stdout",
     "output_type": "stream",
     "text": [
      "0 cat\n",
      "1 dog\n",
      "2 bird\n"
     ]
    }
   ],
   "source": [
    "animals = [\"cat\", \"dog\", \"bird\"]\n",
    "\n",
    "for index, value in enumerate(animals):\n",
    "    print(index, value)"
   ]
  },
  {
   "cell_type": "code",
   "execution_count": 12,
   "id": "e5fc9576",
   "metadata": {},
   "outputs": [
    {
     "name": "stdout",
     "output_type": "stream",
     "text": [
      "name\n",
      "cash\n"
     ]
    }
   ],
   "source": [
    "my_dict = {\"name\" : \"ritesh\", \"cash\":2.2}\n",
    "\n",
    "for key in my_dict:\n",
    "    print(key)"
   ]
  },
  {
   "cell_type": "code",
   "execution_count": 13,
   "id": "fd2410dc",
   "metadata": {},
   "outputs": [
    {
     "name": "stdout",
     "output_type": "stream",
     "text": [
      "ritesh\n",
      "2.2\n"
     ]
    }
   ],
   "source": [
    "for value in my_dict.values():\n",
    "    print(value)"
   ]
  },
  {
   "cell_type": "code",
   "execution_count": 14,
   "id": "c471c2d2",
   "metadata": {},
   "outputs": [
    {
     "name": "stdout",
     "output_type": "stream",
     "text": [
      "name ritesh\n",
      "cash 2.2\n"
     ]
    }
   ],
   "source": [
    "for key, value in my_dict.items():\n",
    "    print(key, value)"
   ]
  },
  {
   "cell_type": "code",
   "execution_count": null,
   "id": "27f7c099",
   "metadata": {},
   "outputs": [],
   "source": [
    "#Note - We avoid for loops in Numpy as they are slw in numpy."
   ]
  },
  {
   "cell_type": "code",
   "execution_count": 15,
   "id": "eef7c128",
   "metadata": {},
   "outputs": [
    {
     "name": "stdout",
     "output_type": "stream",
     "text": [
      "0 c\n",
      "1 a\n",
      "2 t\n"
     ]
    }
   ],
   "source": [
    "animals = \"cat\"\n",
    "\n",
    "for index, value in enumerate(animals):\n",
    "    print(index, value)"
   ]
  },
  {
   "cell_type": "code",
   "execution_count": 16,
   "id": "5fdc8c6d",
   "metadata": {},
   "outputs": [
    {
     "name": "stdout",
     "output_type": "stream",
     "text": [
      "0 cat\n",
      "1 dog\n",
      "2 bird\n"
     ]
    }
   ],
   "source": [
    "animals = (\"cat\", \"dog\", \"bird\")\n",
    "\n",
    "for index, value in enumerate(animals):\n",
    "    print(index, value)"
   ]
  },
  {
   "cell_type": "code",
   "execution_count": null,
   "id": "67c4d30d",
   "metadata": {},
   "outputs": [],
   "source": [
    "#  Note - Enumerate function work with strings, list and tuples [all]."
   ]
  },
  {
   "cell_type": "code",
   "execution_count": 18,
   "id": "2451a947",
   "metadata": {},
   "outputs": [
    {
     "data": {
      "text/plain": [
       "11"
      ]
     },
     "execution_count": 18,
     "metadata": {},
     "output_type": "execute_result"
    }
   ],
   "source": [
    "fout = open('names.csv', mode='w', encoding='utf8')\n",
    "fout.write('name , age\\n')"
   ]
  },
  {
   "cell_type": "code",
   "execution_count": 19,
   "id": "255a8005",
   "metadata": {},
   "outputs": [
    {
     "data": {
      "text/plain": [
       "9"
      ]
     },
     "execution_count": 19,
     "metadata": {},
     "output_type": "execute_result"
    }
   ],
   "source": [
    "fout.write('jeff, 30\\n')"
   ]
  },
  {
   "cell_type": "code",
   "execution_count": 20,
   "id": "e0cca93f",
   "metadata": {},
   "outputs": [
    {
     "data": {
      "text/plain": [
       "10"
      ]
     },
     "execution_count": 20,
     "metadata": {},
     "output_type": "execute_result"
    }
   ],
   "source": [
    "fout.write('india, 29\\n')"
   ]
  },
  {
   "cell_type": "code",
   "execution_count": 21,
   "id": "6b4089bc",
   "metadata": {},
   "outputs": [],
   "source": [
    "fout.close()"
   ]
  },
  {
   "cell_type": "code",
   "execution_count": 22,
   "id": "0ab1b2e4",
   "metadata": {},
   "outputs": [],
   "source": [
    "with open('names1.csv', mode='w', encoding='utf8') as file:\n",
    "    file.write('names, age\\n')\n",
    "    file.write('reites, 29\\n')"
   ]
  },
  {
   "cell_type": "code",
   "execution_count": 24,
   "id": "8e98d11f",
   "metadata": {},
   "outputs": [
    {
     "data": {
      "text/plain": [
       "'name , age\\njeff, 30\\nindia, 29\\n'"
      ]
     },
     "execution_count": 24,
     "metadata": {},
     "output_type": "execute_result"
    }
   ],
   "source": [
    "with open('names.csv', encoding='utf8') as file:\n",
    "    data = file.read()\n",
    "    \n",
    "data"
   ]
  },
  {
   "cell_type": "code",
   "execution_count": 25,
   "id": "e2dd4e6d",
   "metadata": {},
   "outputs": [
    {
     "data": {
      "text/plain": [
       "2"
      ]
     },
     "execution_count": 25,
     "metadata": {},
     "output_type": "execute_result"
    }
   ],
   "source": [
    "names = [1,2,3,4,5]\n",
    "names[1] # 2 - as python is 0 bit index"
   ]
  },
  {
   "cell_type": "code",
   "execution_count": 28,
   "id": "dd0ad527",
   "metadata": {},
   "outputs": [
    {
     "data": {
      "text/plain": [
       "True"
      ]
     },
     "execution_count": 28,
     "metadata": {},
     "output_type": "execute_result"
    }
   ],
   "source": [
    "names.__contains__(3)"
   ]
  },
  {
   "cell_type": "code",
   "execution_count": 1,
   "id": "4675cb8d",
   "metadata": {},
   "outputs": [
    {
     "data": {
      "text/plain": [
       "1676043480576"
      ]
     },
     "execution_count": 1,
     "metadata": {},
     "output_type": "execute_result"
    }
   ],
   "source": [
    "#Shallow Copy\n",
    "\n",
    "names = [1,2,3,4,5]\n",
    "names2 = names[:]\n",
    "id(names)"
   ]
  },
  {
   "cell_type": "code",
   "execution_count": 2,
   "id": "dcf173dc",
   "metadata": {},
   "outputs": [
    {
     "data": {
      "text/plain": [
       "1676043480320"
      ]
     },
     "execution_count": 2,
     "metadata": {},
     "output_type": "execute_result"
    }
   ],
   "source": [
    "id(names2) #hence names2 has all values of name but it has diff location - "
   ]
  },
  {
   "cell_type": "code",
   "execution_count": 3,
   "id": "662f76d7",
   "metadata": {},
   "outputs": [
    {
     "data": {
      "text/plain": [
       "True"
      ]
     },
     "execution_count": 3,
     "metadata": {},
     "output_type": "execute_result"
    }
   ],
   "source": [
    "names[0] is names2[0]"
   ]
  },
  {
   "cell_type": "code",
   "execution_count": 4,
   "id": "c4a51cd3",
   "metadata": {},
   "outputs": [
    {
     "data": {
      "text/plain": [
       "True"
      ]
     },
     "execution_count": 4,
     "metadata": {},
     "output_type": "execute_result"
    }
   ],
   "source": [
    "names == names2"
   ]
  },
  {
   "cell_type": "code",
   "execution_count": 5,
   "id": "40723e87",
   "metadata": {},
   "outputs": [
    {
     "data": {
      "text/plain": [
       "['tte', 'rit', 'tie']"
      ]
     },
     "execution_count": 5,
     "metadata": {},
     "output_type": "execute_result"
    }
   ],
   "source": [
    "nama = ['tie' , 'rit', 'tte']\n",
    "nama[::-1] #reverse the list items "
   ]
  },
  {
   "cell_type": "code",
   "execution_count": 13,
   "id": "b387825b",
   "metadata": {},
   "outputs": [
    {
     "name": "stdout",
     "output_type": "stream",
     "text": [
      "['Tie', 'Rit', 'Tte']\n"
     ]
    }
   ],
   "source": [
    "nama = ['tie', 'rit', 'tte']\n",
    "nama3 = [name.title() for name in nama if len(name) == 3] #list comprehensions\n",
    "print(nama3)"
   ]
  },
  {
   "cell_type": "code",
   "execution_count": 14,
   "id": "679b2079",
   "metadata": {},
   "outputs": [
    {
     "name": "stdout",
     "output_type": "stream",
     "text": [
      "{'names': 'Names', 'age': 'Age', 'address': 'Address'}\n"
     ]
    }
   ],
   "source": [
    "#Dict comprehensions\n",
    "types = {'names':str, 'age':int, 'address':str}\n",
    "new_names = {t:t.title() for t in types}\n",
    "\n",
    "print(new_names)"
   ]
  },
  {
   "cell_type": "code",
   "execution_count": 15,
   "id": "c13b9731",
   "metadata": {},
   "outputs": [
    {
     "name": "stdout",
     "output_type": "stream",
     "text": [
      "Original List: [[100, 2, 3], [4, 5, 6]]\n",
      "Shallow Copied List: [[100, 2, 3], [4, 5, 6]]\n",
      "Deep Copied List: [[1, 2, 3], [4, 5, 6]]\n"
     ]
    }
   ],
   "source": [
    "import copy\n",
    "\n",
    "# Original list\n",
    "original_list = [[1, 2, 3], [4, 5, 6]]\n",
    "\n",
    "# Shallow copy\n",
    "shallow_copied_list = copy.copy(original_list)\n",
    "\n",
    "# Deep copy\n",
    "deep_copied_list = copy.deepcopy(original_list)\n",
    "\n",
    "# Modify the original list\n",
    "original_list[0][0] = 100\n",
    "\n",
    "# Displaying all lists\n",
    "print(\"Original List:\", original_list)\n",
    "print(\"Shallow Copied List:\", shallow_copied_list)\n",
    "print(\"Deep Copied List:\", deep_copied_list)\n"
   ]
  },
  {
   "cell_type": "code",
   "execution_count": null,
   "id": "c54ed588",
   "metadata": {},
   "outputs": [],
   "source": [
    "#Dictionaries\n"
   ]
  },
  {
   "cell_type": "code",
   "execution_count": 16,
   "id": "3b7a5844",
   "metadata": {},
   "outputs": [
    {
     "data": {
      "text/plain": [
       "str"
      ]
     },
     "execution_count": 16,
     "metadata": {},
     "output_type": "execute_result"
    }
   ],
   "source": [
    "type('rit')"
   ]
  },
  {
   "cell_type": "code",
   "execution_count": 1,
   "id": "4758c209",
   "metadata": {},
   "outputs": [
    {
     "data": {
      "text/plain": [
       "30"
      ]
     },
     "execution_count": 1,
     "metadata": {},
     "output_type": "execute_result"
    }
   ],
   "source": [
    "val = lambda x,y : x+y\n",
    "\n",
    "val(10,20)"
   ]
  },
  {
   "cell_type": "code",
   "execution_count": 2,
   "id": "f80566aa",
   "metadata": {},
   "outputs": [],
   "source": [
    "import math\n",
    "import pandas as pd"
   ]
  },
  {
   "cell_type": "code",
   "execution_count": 3,
   "id": "a1a0060e",
   "metadata": {},
   "outputs": [
    {
     "name": "stdout",
     "output_type": "stream",
     "text": [
      "   name    age\n",
      "0   jeff    30\n",
      "1  india    29\n"
     ]
    }
   ],
   "source": [
    "df = pd.read_csv('names.csv')\n",
    "\n",
    "print(df)"
   ]
  },
  {
   "cell_type": "code",
   "execution_count": 2,
   "id": "dd572b08",
   "metadata": {},
   "outputs": [],
   "source": [
    "class MyInt:\n",
    "    \"This is a doc string\"\n",
    "    \n",
    "    def __init__(self, val):\n",
    "        self.val = val\n",
    "        \n",
    "    def __add__(self, other):\n",
    "        return MyInt(self.val + other)\n",
    "    \n",
    "    def __repr__(self):\n",
    "        return f'MyInt({self.val})'\n",
    "    \n",
    "    def __str__(self):\n",
    "        return f'{self.val}'\n",
    "    \n",
    "    def square(self):\n",
    "        \"Return square of value\"\n",
    "        return MyInt(self.val*2)\n",
    "    "
   ]
  },
  {
   "cell_type": "code",
   "execution_count": 3,
   "id": "79a3b705",
   "metadata": {},
   "outputs": [
    {
     "data": {
      "text/plain": [
       "MyInt(48)"
      ]
     },
     "execution_count": 3,
     "metadata": {},
     "output_type": "execute_result"
    }
   ],
   "source": [
    "num = MyInt(43)\n",
    "num + 5"
   ]
  },
  {
   "cell_type": "code",
   "execution_count": 4,
   "id": "36997b77",
   "metadata": {},
   "outputs": [
    {
     "name": "stdout",
     "output_type": "stream",
     "text": [
      "43\n"
     ]
    }
   ],
   "source": [
    "print(num)"
   ]
  },
  {
   "cell_type": "code",
   "execution_count": 5,
   "id": "e863ba75",
   "metadata": {},
   "outputs": [
    {
     "data": {
      "text/plain": [
       "MyInt(86)"
      ]
     },
     "execution_count": 5,
     "metadata": {},
     "output_type": "execute_result"
    }
   ],
   "source": [
    "num.square()"
   ]
  },
  {
   "cell_type": "code",
   "execution_count": null,
   "id": "c27447ec",
   "metadata": {},
   "outputs": [],
   "source": [
    "# To check all builtin exceptions --> dir(__builtins__)"
   ]
  },
  {
   "cell_type": "code",
   "execution_count": 6,
   "id": "c16b89ff",
   "metadata": {},
   "outputs": [
    {
     "name": "stdout",
     "output_type": "stream",
     "text": [
      "missing is not a key\n"
     ]
    }
   ],
   "source": [
    "types = {'1':1, '2':2}\n",
    "\n",
    "try:\n",
    "    types['missing']\n",
    "    \n",
    "except KeyError:\n",
    "    print(\"missing is not a key\")\n",
    "    \n",
    "    "
   ]
  },
  {
   "cell_type": "code",
   "execution_count": 7,
   "id": "96b2861b",
   "metadata": {},
   "outputs": [
    {
     "ename": "KeyError",
     "evalue": "'Key was missing'",
     "output_type": "error",
     "traceback": [
      "\u001b[1;31m---------------------------------------------------------------------------\u001b[0m",
      "\u001b[1;31mKeyError\u001b[0m                                  Traceback (most recent call last)",
      "Input \u001b[1;32mIn [7]\u001b[0m, in \u001b[0;36m<cell line: 1>\u001b[1;34m()\u001b[0m\n\u001b[1;32m----> 1\u001b[0m \u001b[38;5;28;01mraise\u001b[39;00m \u001b[38;5;167;01mKeyError\u001b[39;00m(\u001b[38;5;124m'\u001b[39m\u001b[38;5;124mKey was missing\u001b[39m\u001b[38;5;124m'\u001b[39m)\n",
      "\u001b[1;31mKeyError\u001b[0m: 'Key was missing'"
     ]
    }
   ],
   "source": [
    "raise KeyError('Key was missing')"
   ]
  },
  {
   "cell_type": "code",
   "execution_count": 8,
   "id": "0b47635b",
   "metadata": {},
   "outputs": [
    {
     "data": {
      "text/plain": [
       "array([0, 1, 2, 3, 4, 5, 6, 7, 8, 9])"
      ]
     },
     "execution_count": 8,
     "metadata": {},
     "output_type": "execute_result"
    }
   ],
   "source": [
    "#numpy - matrix manipulation\n",
    "import numpy as np\n",
    "\n",
    "digits = np.array(range(10))\n",
    "digits"
   ]
  },
  {
   "cell_type": "code",
   "execution_count": 9,
   "id": "41b57ef6",
   "metadata": {},
   "outputs": [
    {
     "data": {
      "text/plain": [
       "array([10, 11, 12, 13, 14, 15, 16, 17, 18, 19])"
      ]
     },
     "execution_count": 9,
     "metadata": {},
     "output_type": "execute_result"
    }
   ],
   "source": [
    "digits + 10 # in list we cant do this way - we need to go via for loop and add 10 to each ele"
   ]
  },
  {
   "cell_type": "code",
   "execution_count": 10,
   "id": "aceec441",
   "metadata": {},
   "outputs": [
    {
     "data": {
      "text/plain": [
       "array([0, 1, 2])"
      ]
     },
     "execution_count": 10,
     "metadata": {},
     "output_type": "execute_result"
    }
   ],
   "source": [
    "#\n",
    "np.arange(3)"
   ]
  },
  {
   "cell_type": "code",
   "execution_count": 11,
   "id": "19c71d63",
   "metadata": {},
   "outputs": [
    {
     "data": {
      "text/plain": [
       "array([1., 1., 1., 1.])"
      ]
     },
     "execution_count": 11,
     "metadata": {},
     "output_type": "execute_result"
    }
   ],
   "source": [
    "np.ones(4)"
   ]
  },
  {
   "cell_type": "code",
   "execution_count": 12,
   "id": "dea9319a",
   "metadata": {},
   "outputs": [
    {
     "data": {
      "text/plain": [
       "array([0., 0., 0.])"
      ]
     },
     "execution_count": 12,
     "metadata": {},
     "output_type": "execute_result"
    }
   ],
   "source": [
    "np.zeros(3)"
   ]
  },
  {
   "cell_type": "code",
   "execution_count": 13,
   "id": "c97ad081",
   "metadata": {},
   "outputs": [
    {
     "data": {
      "text/plain": [
       "array([[1., 0., 0., 0., 0.],\n",
       "       [0., 1., 0., 0., 0.],\n",
       "       [0., 0., 1., 0., 0.]])"
      ]
     },
     "execution_count": 13,
     "metadata": {},
     "output_type": "execute_result"
    }
   ],
   "source": [
    "np.eye(3,5) # return array matrix with 1's on diagonals and 0's otherwise\n"
   ]
  },
  {
   "cell_type": "code",
   "execution_count": 14,
   "id": "87a3fcbb",
   "metadata": {},
   "outputs": [
    {
     "data": {
      "text/plain": [
       "array([[0, 0, 0],\n",
       "       [0, 1, 0],\n",
       "       [0, 0, 2]])"
      ]
     },
     "execution_count": 14,
     "metadata": {},
     "output_type": "execute_result"
    }
   ],
   "source": [
    "np.diag(range(3)) # it will put 0,1,2 on diagonals"
   ]
  },
  {
   "cell_type": "code",
   "execution_count": 15,
   "id": "bfd8fb9a",
   "metadata": {},
   "outputs": [
    {
     "data": {
      "text/plain": [
       "array([0.40093971, 0.50411608, 0.27091986])"
      ]
     },
     "execution_count": 15,
     "metadata": {},
     "output_type": "execute_result"
    }
   ],
   "source": [
    "# random numbers - between 0 and 1\n",
    "np.random.random(3)"
   ]
  },
  {
   "cell_type": "code",
   "execution_count": 3,
   "id": "8f90ca91",
   "metadata": {},
   "outputs": [
    {
     "data": {
      "text/plain": [
       "array([ 0,  1,  2,  3,  4,  5,  6,  7,  8,  9, 10, 11, 12, 13, 14, 15, 16,\n",
       "       17, 18, 19, 20, 21, 22, 23, 24, 25, 26, 27, 28, 29, 30, 31, 32, 33,\n",
       "       34, 35, 36, 37, 38, 39, 40, 41, 42, 43, 44, 45, 46, 47, 48, 49, 50,\n",
       "       51, 52, 53, 54, 55, 56, 57, 58, 59, 60, 61, 62, 63, 64, 65, 66, 67,\n",
       "       68, 69, 70, 71, 72, 73, 74, 75, 76, 77, 78, 79, 80, 81, 82, 83, 84,\n",
       "       85, 86, 87, 88, 89, 90, 91, 92, 93, 94, 95, 96, 97, 98, 99])"
      ]
     },
     "execution_count": 3,
     "metadata": {},
     "output_type": "execute_result"
    }
   ],
   "source": [
    "import numpy as np\n",
    "\n",
    "nums = np.arange(100)\n",
    "nums"
   ]
  },
  {
   "cell_type": "code",
   "execution_count": 5,
   "id": "026ec833",
   "metadata": {},
   "outputs": [
    {
     "data": {
      "text/plain": [
       "array([ True, False,  True, False,  True, False,  True, False,  True,\n",
       "       False,  True, False,  True, False,  True, False,  True, False,\n",
       "        True, False,  True, False,  True, False,  True, False,  True,\n",
       "       False,  True, False,  True, False,  True, False,  True, False,\n",
       "        True, False,  True, False,  True, False,  True, False,  True,\n",
       "       False,  True, False,  True, False,  True, False,  True, False,\n",
       "        True, False,  True, False,  True, False,  True, False,  True,\n",
       "       False,  True, False,  True, False,  True, False,  True, False,\n",
       "        True, False,  True, False,  True, False,  True, False,  True,\n",
       "       False,  True, False,  True, False,  True, False,  True, False,\n",
       "        True, False,  True, False,  True, False,  True, False,  True,\n",
       "       False])"
      ]
     },
     "execution_count": 5,
     "metadata": {},
     "output_type": "execute_result"
    }
   ],
   "source": [
    "nums % 2 == 0"
   ]
  },
  {
   "cell_type": "code",
   "execution_count": 6,
   "id": "3bdfba08",
   "metadata": {},
   "outputs": [
    {
     "data": {
      "text/plain": [
       "array([ 0,  2,  4,  6,  8, 10, 12, 14, 16, 18, 20, 22, 24, 26, 28, 30, 32,\n",
       "       34, 36, 38, 40, 42, 44, 46, 48, 50, 52, 54, 56, 58, 60, 62, 64, 66,\n",
       "       68, 70, 72, 74, 76, 78, 80, 82, 84, 86, 88, 90, 92, 94, 96, 98])"
      ]
     },
     "execution_count": 6,
     "metadata": {},
     "output_type": "execute_result"
    }
   ],
   "source": [
    "nums[nums%2==0]"
   ]
  },
  {
   "cell_type": "markdown",
   "id": "4390a7f2",
   "metadata": {},
   "source": [
    "## NUmpy Example"
   ]
  },
  {
   "cell_type": "code",
   "execution_count": 7,
   "id": "5300c569",
   "metadata": {},
   "outputs": [
    {
     "data": {
      "text/plain": [
       "array([[5.1, 3.5, 1.4, 0.2],\n",
       "       [4.9, 3. , 1.4, 0.2],\n",
       "       [4.7, 3.2, 1.3, 0.2],\n",
       "       [4.6, 3.1, 1.5, 0.2],\n",
       "       [5. , 3.6, 1.4, 0.2],\n",
       "       [5.4, 3.9, 1.7, 0.4],\n",
       "       [4.6, 3.4, 1.4, 0.3],\n",
       "       [5. , 3.4, 1.5, 0.2],\n",
       "       [4.4, 2.9, 1.4, 0.2],\n",
       "       [4.9, 3.1, 1.5, 0.1],\n",
       "       [5.4, 3.7, 1.5, 0.2],\n",
       "       [4.8, 3.4, 1.6, 0.2],\n",
       "       [4.8, 3. , 1.4, 0.1],\n",
       "       [4.3, 3. , 1.1, 0.1],\n",
       "       [5.8, 4. , 1.2, 0.2],\n",
       "       [5.7, 4.4, 1.5, 0.4],\n",
       "       [5.4, 3.9, 1.3, 0.4],\n",
       "       [5.1, 3.5, 1.4, 0.3],\n",
       "       [5.7, 3.8, 1.7, 0.3],\n",
       "       [5.1, 3.8, 1.5, 0.3],\n",
       "       [5.4, 3.4, 1.7, 0.2],\n",
       "       [5.1, 3.7, 1.5, 0.4],\n",
       "       [4.6, 3.6, 1. , 0.2],\n",
       "       [5.1, 3.3, 1.7, 0.5],\n",
       "       [4.8, 3.4, 1.9, 0.2],\n",
       "       [5. , 3. , 1.6, 0.2],\n",
       "       [5. , 3.4, 1.6, 0.4],\n",
       "       [5.2, 3.5, 1.5, 0.2],\n",
       "       [5.2, 3.4, 1.4, 0.2],\n",
       "       [4.7, 3.2, 1.6, 0.2],\n",
       "       [4.8, 3.1, 1.6, 0.2],\n",
       "       [5.4, 3.4, 1.5, 0.4],\n",
       "       [5.2, 4.1, 1.5, 0.1],\n",
       "       [5.5, 4.2, 1.4, 0.2],\n",
       "       [4.9, 3.1, 1.5, 0.2],\n",
       "       [5. , 3.2, 1.2, 0.2],\n",
       "       [5.5, 3.5, 1.3, 0.2],\n",
       "       [4.9, 3.6, 1.4, 0.1],\n",
       "       [4.4, 3. , 1.3, 0.2],\n",
       "       [5.1, 3.4, 1.5, 0.2],\n",
       "       [5. , 3.5, 1.3, 0.3],\n",
       "       [4.5, 2.3, 1.3, 0.3],\n",
       "       [4.4, 3.2, 1.3, 0.2],\n",
       "       [5. , 3.5, 1.6, 0.6],\n",
       "       [5.1, 3.8, 1.9, 0.4],\n",
       "       [4.8, 3. , 1.4, 0.3],\n",
       "       [5.1, 3.8, 1.6, 0.2],\n",
       "       [4.6, 3.2, 1.4, 0.2],\n",
       "       [5.3, 3.7, 1.5, 0.2],\n",
       "       [5. , 3.3, 1.4, 0.2],\n",
       "       [7. , 3.2, 4.7, 1.4],\n",
       "       [6.4, 3.2, 4.5, 1.5],\n",
       "       [6.9, 3.1, 4.9, 1.5],\n",
       "       [5.5, 2.3, 4. , 1.3],\n",
       "       [6.5, 2.8, 4.6, 1.5],\n",
       "       [5.7, 2.8, 4.5, 1.3],\n",
       "       [6.3, 3.3, 4.7, 1.6],\n",
       "       [4.9, 2.4, 3.3, 1. ],\n",
       "       [6.6, 2.9, 4.6, 1.3],\n",
       "       [5.2, 2.7, 3.9, 1.4],\n",
       "       [5. , 2. , 3.5, 1. ],\n",
       "       [5.9, 3. , 4.2, 1.5],\n",
       "       [6. , 2.2, 4. , 1. ],\n",
       "       [6.1, 2.9, 4.7, 1.4],\n",
       "       [5.6, 2.9, 3.6, 1.3],\n",
       "       [6.7, 3.1, 4.4, 1.4],\n",
       "       [5.6, 3. , 4.5, 1.5],\n",
       "       [5.8, 2.7, 4.1, 1. ],\n",
       "       [6.2, 2.2, 4.5, 1.5],\n",
       "       [5.6, 2.5, 3.9, 1.1],\n",
       "       [5.9, 3.2, 4.8, 1.8],\n",
       "       [6.1, 2.8, 4. , 1.3],\n",
       "       [6.3, 2.5, 4.9, 1.5],\n",
       "       [6.1, 2.8, 4.7, 1.2],\n",
       "       [6.4, 2.9, 4.3, 1.3],\n",
       "       [6.6, 3. , 4.4, 1.4],\n",
       "       [6.8, 2.8, 4.8, 1.4],\n",
       "       [6.7, 3. , 5. , 1.7],\n",
       "       [6. , 2.9, 4.5, 1.5],\n",
       "       [5.7, 2.6, 3.5, 1. ],\n",
       "       [5.5, 2.4, 3.8, 1.1],\n",
       "       [5.5, 2.4, 3.7, 1. ],\n",
       "       [5.8, 2.7, 3.9, 1.2],\n",
       "       [6. , 2.7, 5.1, 1.6],\n",
       "       [5.4, 3. , 4.5, 1.5],\n",
       "       [6. , 3.4, 4.5, 1.6],\n",
       "       [6.7, 3.1, 4.7, 1.5],\n",
       "       [6.3, 2.3, 4.4, 1.3],\n",
       "       [5.6, 3. , 4.1, 1.3],\n",
       "       [5.5, 2.5, 4. , 1.3],\n",
       "       [5.5, 2.6, 4.4, 1.2],\n",
       "       [6.1, 3. , 4.6, 1.4],\n",
       "       [5.8, 2.6, 4. , 1.2],\n",
       "       [5. , 2.3, 3.3, 1. ],\n",
       "       [5.6, 2.7, 4.2, 1.3],\n",
       "       [5.7, 3. , 4.2, 1.2],\n",
       "       [5.7, 2.9, 4.2, 1.3],\n",
       "       [6.2, 2.9, 4.3, 1.3],\n",
       "       [5.1, 2.5, 3. , 1.1],\n",
       "       [5.7, 2.8, 4.1, 1.3],\n",
       "       [6.3, 3.3, 6. , 2.5],\n",
       "       [5.8, 2.7, 5.1, 1.9],\n",
       "       [7.1, 3. , 5.9, 2.1],\n",
       "       [6.3, 2.9, 5.6, 1.8],\n",
       "       [6.5, 3. , 5.8, 2.2],\n",
       "       [7.6, 3. , 6.6, 2.1],\n",
       "       [4.9, 2.5, 4.5, 1.7],\n",
       "       [7.3, 2.9, 6.3, 1.8],\n",
       "       [6.7, 2.5, 5.8, 1.8],\n",
       "       [7.2, 3.6, 6.1, 2.5],\n",
       "       [6.5, 3.2, 5.1, 2. ],\n",
       "       [6.4, 2.7, 5.3, 1.9],\n",
       "       [6.8, 3. , 5.5, 2.1],\n",
       "       [5.7, 2.5, 5. , 2. ],\n",
       "       [5.8, 2.8, 5.1, 2.4],\n",
       "       [6.4, 3.2, 5.3, 2.3],\n",
       "       [6.5, 3. , 5.5, 1.8],\n",
       "       [7.7, 3.8, 6.7, 2.2],\n",
       "       [7.7, 2.6, 6.9, 2.3],\n",
       "       [6. , 2.2, 5. , 1.5],\n",
       "       [6.9, 3.2, 5.7, 2.3],\n",
       "       [5.6, 2.8, 4.9, 2. ],\n",
       "       [7.7, 2.8, 6.7, 2. ],\n",
       "       [6.3, 2.7, 4.9, 1.8],\n",
       "       [6.7, 3.3, 5.7, 2.1],\n",
       "       [7.2, 3.2, 6. , 1.8],\n",
       "       [6.2, 2.8, 4.8, 1.8],\n",
       "       [6.1, 3. , 4.9, 1.8],\n",
       "       [6.4, 2.8, 5.6, 2.1],\n",
       "       [7.2, 3. , 5.8, 1.6],\n",
       "       [7.4, 2.8, 6.1, 1.9],\n",
       "       [7.9, 3.8, 6.4, 2. ],\n",
       "       [6.4, 2.8, 5.6, 2.2],\n",
       "       [6.3, 2.8, 5.1, 1.5],\n",
       "       [6.1, 2.6, 5.6, 1.4],\n",
       "       [7.7, 3. , 6.1, 2.3],\n",
       "       [6.3, 3.4, 5.6, 2.4],\n",
       "       [6.4, 3.1, 5.5, 1.8],\n",
       "       [6. , 3. , 4.8, 1.8],\n",
       "       [6.9, 3.1, 5.4, 2.1],\n",
       "       [6.7, 3.1, 5.6, 2.4],\n",
       "       [6.9, 3.1, 5.1, 2.3],\n",
       "       [5.8, 2.7, 5.1, 1.9],\n",
       "       [6.8, 3.2, 5.9, 2.3],\n",
       "       [6.7, 3.3, 5.7, 2.5],\n",
       "       [6.7, 3. , 5.2, 2.3],\n",
       "       [6.3, 2.5, 5. , 1.9],\n",
       "       [6.5, 3. , 5.2, 2. ],\n",
       "       [6.2, 3.4, 5.4, 2.3],\n",
       "       [5.9, 3. , 5.1, 1.8]])"
      ]
     },
     "execution_count": 7,
     "metadata": {},
     "output_type": "execute_result"
    }
   ],
   "source": [
    "# Example standardize data - each column has mean value 0 and standard deviation of 1\n",
    "\n",
    "import sklearn.datasets\n",
    "iris = sklearn.datasets.load_iris().data\n",
    "iris"
   ]
  },
  {
   "cell_type": "code",
   "execution_count": 8,
   "id": "7f65a3ce",
   "metadata": {},
   "outputs": [
    {
     "data": {
      "text/plain": [
       "array([[ 0.82858665,  0.01798522, -1.04592915, -1.65388022],\n",
       "       [ 0.72726147, -0.23532773, -1.04592915, -1.65388022],\n",
       "       [ 0.62593629, -0.13400255, -1.09659174, -1.65388022],\n",
       "       [ 0.5752737 , -0.18466514, -0.99526657, -1.65388022],\n",
       "       [ 0.77792406,  0.06864781, -1.04592915, -1.65388022],\n",
       "       [ 0.98057441,  0.22063558, -0.89394139, -1.55255505],\n",
       "       [ 0.5752737 , -0.03267737, -1.04592915, -1.60321764],\n",
       "       [ 0.77792406, -0.03267737, -0.99526657, -1.65388022],\n",
       "       [ 0.47394852, -0.28599032, -1.04592915, -1.65388022],\n",
       "       [ 0.72726147, -0.18466514, -0.99526657, -1.70454281],\n",
       "       [ 0.98057441,  0.1193104 , -0.99526657, -1.65388022],\n",
       "       [ 0.67659888, -0.03267737, -0.94460398, -1.65388022],\n",
       "       [ 0.67659888, -0.23532773, -1.04592915, -1.70454281],\n",
       "       [ 0.42328593, -0.23532773, -1.19791692, -1.70454281],\n",
       "       [ 1.18322477,  0.27129817, -1.14725433, -1.65388022],\n",
       "       [ 1.13256218,  0.47394852, -0.99526657, -1.55255505],\n",
       "       [ 0.98057441,  0.22063558, -1.09659174, -1.55255505],\n",
       "       [ 0.82858665,  0.01798522, -1.04592915, -1.60321764],\n",
       "       [ 1.13256218,  0.16997299, -0.89394139, -1.60321764],\n",
       "       [ 0.82858665,  0.16997299, -0.99526657, -1.60321764],\n",
       "       [ 0.98057441, -0.03267737, -0.89394139, -1.65388022],\n",
       "       [ 0.82858665,  0.1193104 , -0.99526657, -1.55255505],\n",
       "       [ 0.5752737 ,  0.06864781, -1.24857951, -1.65388022],\n",
       "       [ 0.82858665, -0.08333996, -0.89394139, -1.50189246],\n",
       "       [ 0.67659888, -0.03267737, -0.79261621, -1.65388022],\n",
       "       [ 0.77792406, -0.23532773, -0.94460398, -1.65388022],\n",
       "       [ 0.77792406, -0.03267737, -0.94460398, -1.55255505],\n",
       "       [ 0.87924924,  0.01798522, -0.99526657, -1.65388022],\n",
       "       [ 0.87924924, -0.03267737, -1.04592915, -1.65388022],\n",
       "       [ 0.62593629, -0.13400255, -0.94460398, -1.65388022],\n",
       "       [ 0.67659888, -0.18466514, -0.94460398, -1.65388022],\n",
       "       [ 0.98057441, -0.03267737, -0.99526657, -1.55255505],\n",
       "       [ 0.87924924,  0.32196075, -0.99526657, -1.70454281],\n",
       "       [ 1.031237  ,  0.37262334, -1.04592915, -1.65388022],\n",
       "       [ 0.72726147, -0.18466514, -0.99526657, -1.65388022],\n",
       "       [ 0.77792406, -0.13400255, -1.14725433, -1.65388022],\n",
       "       [ 1.031237  ,  0.01798522, -1.09659174, -1.65388022],\n",
       "       [ 0.72726147,  0.06864781, -1.04592915, -1.70454281],\n",
       "       [ 0.47394852, -0.23532773, -1.09659174, -1.65388022],\n",
       "       [ 0.82858665, -0.03267737, -0.99526657, -1.65388022],\n",
       "       [ 0.77792406,  0.01798522, -1.09659174, -1.60321764],\n",
       "       [ 0.52461111, -0.58996585, -1.09659174, -1.60321764],\n",
       "       [ 0.47394852, -0.13400255, -1.09659174, -1.65388022],\n",
       "       [ 0.77792406,  0.01798522, -0.94460398, -1.45122987],\n",
       "       [ 0.82858665,  0.16997299, -0.79261621, -1.55255505],\n",
       "       [ 0.67659888, -0.23532773, -1.04592915, -1.60321764],\n",
       "       [ 0.82858665,  0.16997299, -0.94460398, -1.65388022],\n",
       "       [ 0.5752737 , -0.13400255, -1.04592915, -1.65388022],\n",
       "       [ 0.92991182,  0.1193104 , -0.99526657, -1.65388022],\n",
       "       [ 0.77792406, -0.08333996, -1.04592915, -1.65388022],\n",
       "       [ 1.79117584, -0.13400255,  0.62593629, -1.04592915],\n",
       "       [ 1.48720031, -0.13400255,  0.52461111, -0.99526657],\n",
       "       [ 1.74051325, -0.18466514,  0.72726147, -0.99526657],\n",
       "       [ 1.031237  , -0.58996585,  0.27129817, -1.09659174],\n",
       "       [ 1.5378629 , -0.33665291,  0.5752737 , -0.99526657],\n",
       "       [ 1.13256218, -0.33665291,  0.52461111, -1.09659174],\n",
       "       [ 1.43653772, -0.08333996,  0.62593629, -0.94460398],\n",
       "       [ 0.72726147, -0.53930326, -0.08333996, -1.24857951],\n",
       "       [ 1.58852548, -0.28599032,  0.5752737 , -1.09659174],\n",
       "       [ 0.87924924, -0.38731549,  0.22063558, -1.04592915],\n",
       "       [ 0.77792406, -0.74195362,  0.01798522, -1.24857951],\n",
       "       [ 1.23388736, -0.23532773,  0.37262334, -0.99526657],\n",
       "       [ 1.28454995, -0.64062844,  0.27129817, -1.24857951],\n",
       "       [ 1.33521254, -0.28599032,  0.62593629, -1.04592915],\n",
       "       [ 1.08189959, -0.28599032,  0.06864781, -1.09659174],\n",
       "       [ 1.63918807, -0.18466514,  0.47394852, -1.04592915],\n",
       "       [ 1.08189959, -0.23532773,  0.52461111, -0.99526657],\n",
       "       [ 1.18322477, -0.38731549,  0.32196075, -1.24857951],\n",
       "       [ 1.38587513, -0.64062844,  0.52461111, -0.99526657],\n",
       "       [ 1.08189959, -0.48864067,  0.22063558, -1.19791692],\n",
       "       [ 1.23388736, -0.13400255,  0.67659888, -0.8432788 ],\n",
       "       [ 1.33521254, -0.33665291,  0.27129817, -1.09659174],\n",
       "       [ 1.43653772, -0.48864067,  0.72726147, -0.99526657],\n",
       "       [ 1.33521254, -0.33665291,  0.62593629, -1.14725433],\n",
       "       [ 1.48720031, -0.28599032,  0.42328593, -1.09659174],\n",
       "       [ 1.58852548, -0.23532773,  0.47394852, -1.04592915],\n",
       "       [ 1.68985066, -0.33665291,  0.67659888, -1.04592915],\n",
       "       [ 1.63918807, -0.23532773,  0.77792406, -0.89394139],\n",
       "       [ 1.28454995, -0.28599032,  0.52461111, -0.99526657],\n",
       "       [ 1.13256218, -0.43797808,  0.01798522, -1.24857951],\n",
       "       [ 1.031237  , -0.53930326,  0.16997299, -1.19791692],\n",
       "       [ 1.031237  , -0.53930326,  0.1193104 , -1.24857951],\n",
       "       [ 1.18322477, -0.38731549,  0.22063558, -1.14725433],\n",
       "       [ 1.28454995, -0.38731549,  0.82858665, -0.94460398],\n",
       "       [ 0.98057441, -0.23532773,  0.52461111, -0.99526657],\n",
       "       [ 1.28454995, -0.03267737,  0.52461111, -0.94460398],\n",
       "       [ 1.63918807, -0.18466514,  0.62593629, -0.99526657],\n",
       "       [ 1.43653772, -0.58996585,  0.47394852, -1.09659174],\n",
       "       [ 1.08189959, -0.23532773,  0.32196075, -1.09659174],\n",
       "       [ 1.031237  , -0.48864067,  0.27129817, -1.09659174],\n",
       "       [ 1.031237  , -0.43797808,  0.47394852, -1.14725433],\n",
       "       [ 1.33521254, -0.23532773,  0.5752737 , -1.04592915],\n",
       "       [ 1.18322477, -0.43797808,  0.27129817, -1.14725433],\n",
       "       [ 0.77792406, -0.58996585, -0.08333996, -1.24857951],\n",
       "       [ 1.08189959, -0.38731549,  0.37262334, -1.09659174],\n",
       "       [ 1.13256218, -0.23532773,  0.37262334, -1.14725433],\n",
       "       [ 1.13256218, -0.28599032,  0.37262334, -1.09659174],\n",
       "       [ 1.38587513, -0.28599032,  0.42328593, -1.09659174],\n",
       "       [ 0.82858665, -0.48864067, -0.23532773, -1.19791692],\n",
       "       [ 1.13256218, -0.33665291,  0.32196075, -1.09659174],\n",
       "       [ 1.43653772, -0.08333996,  1.28454995, -0.48864067],\n",
       "       [ 1.18322477, -0.38731549,  0.82858665, -0.79261621],\n",
       "       [ 1.84183843, -0.23532773,  1.23388736, -0.69129103],\n",
       "       [ 1.43653772, -0.28599032,  1.08189959, -0.8432788 ],\n",
       "       [ 1.5378629 , -0.23532773,  1.18322477, -0.64062844],\n",
       "       [ 2.09515138, -0.23532773,  1.58852548, -0.69129103],\n",
       "       [ 0.72726147, -0.48864067,  0.52461111, -0.89394139],\n",
       "       [ 1.94316361, -0.28599032,  1.43653772, -0.8432788 ],\n",
       "       [ 1.63918807, -0.48864067,  1.18322477, -0.8432788 ],\n",
       "       [ 1.89250102,  0.06864781,  1.33521254, -0.48864067],\n",
       "       [ 1.5378629 , -0.13400255,  0.82858665, -0.74195362],\n",
       "       [ 1.48720031, -0.38731549,  0.92991182, -0.79261621],\n",
       "       [ 1.68985066, -0.23532773,  1.031237  , -0.69129103],\n",
       "       [ 1.13256218, -0.48864067,  0.77792406, -0.74195362],\n",
       "       [ 1.18322477, -0.33665291,  0.82858665, -0.53930326],\n",
       "       [ 1.48720031, -0.13400255,  0.92991182, -0.58996585],\n",
       "       [ 1.5378629 , -0.23532773,  1.031237  , -0.8432788 ],\n",
       "       [ 2.14581397,  0.16997299,  1.63918807, -0.64062844],\n",
       "       [ 2.14581397, -0.43797808,  1.74051325, -0.58996585],\n",
       "       [ 1.28454995, -0.64062844,  0.77792406, -0.99526657],\n",
       "       [ 1.74051325, -0.13400255,  1.13256218, -0.58996585],\n",
       "       [ 1.08189959, -0.33665291,  0.72726147, -0.74195362],\n",
       "       [ 2.14581397, -0.33665291,  1.63918807, -0.74195362],\n",
       "       [ 1.43653772, -0.38731549,  0.72726147, -0.8432788 ],\n",
       "       [ 1.63918807, -0.08333996,  1.13256218, -0.69129103],\n",
       "       [ 1.89250102, -0.13400255,  1.28454995, -0.8432788 ],\n",
       "       [ 1.38587513, -0.33665291,  0.67659888, -0.8432788 ],\n",
       "       [ 1.33521254, -0.23532773,  0.72726147, -0.8432788 ],\n",
       "       [ 1.48720031, -0.33665291,  1.08189959, -0.69129103],\n",
       "       [ 1.89250102, -0.23532773,  1.18322477, -0.94460398],\n",
       "       [ 1.9938262 , -0.33665291,  1.33521254, -0.79261621],\n",
       "       [ 2.24713914,  0.16997299,  1.48720031, -0.74195362],\n",
       "       [ 1.48720031, -0.33665291,  1.08189959, -0.64062844],\n",
       "       [ 1.43653772, -0.33665291,  0.82858665, -0.99526657],\n",
       "       [ 1.33521254, -0.43797808,  1.08189959, -1.04592915],\n",
       "       [ 2.14581397, -0.23532773,  1.33521254, -0.58996585],\n",
       "       [ 1.43653772, -0.03267737,  1.08189959, -0.53930326],\n",
       "       [ 1.48720031, -0.18466514,  1.031237  , -0.8432788 ],\n",
       "       [ 1.28454995, -0.23532773,  0.67659888, -0.8432788 ],\n",
       "       [ 1.74051325, -0.18466514,  0.98057441, -0.69129103],\n",
       "       [ 1.63918807, -0.18466514,  1.08189959, -0.53930326],\n",
       "       [ 1.74051325, -0.18466514,  0.82858665, -0.58996585],\n",
       "       [ 1.18322477, -0.38731549,  0.82858665, -0.79261621],\n",
       "       [ 1.68985066, -0.13400255,  1.23388736, -0.58996585],\n",
       "       [ 1.63918807, -0.08333996,  1.13256218, -0.48864067],\n",
       "       [ 1.63918807, -0.23532773,  0.87924924, -0.58996585],\n",
       "       [ 1.43653772, -0.48864067,  0.77792406, -0.79261621],\n",
       "       [ 1.5378629 , -0.23532773,  0.87924924, -0.74195362],\n",
       "       [ 1.38587513, -0.03267737,  0.98057441, -0.58996585],\n",
       "       [ 1.23388736, -0.23532773,  0.82858665, -0.8432788 ]])"
      ]
     },
     "execution_count": 8,
     "metadata": {},
     "output_type": "execute_result"
    }
   ],
   "source": [
    "iris_z = (iris - np.mean(iris))/np.std(iris) #z-score normalization\n",
    "iris_z"
   ]
  },
  {
   "cell_type": "code",
   "execution_count": 9,
   "id": "e4928225",
   "metadata": {},
   "outputs": [
    {
     "data": {
      "text/plain": [
       "1.1842378929335003e-16"
      ]
     },
     "execution_count": 9,
     "metadata": {},
     "output_type": "execute_result"
    }
   ],
   "source": [
    "np.mean(iris_z) #very close to zero"
   ]
  },
  {
   "cell_type": "code",
   "execution_count": 10,
   "id": "37d015b7",
   "metadata": {},
   "outputs": [
    {
     "data": {
      "text/plain": [
       "1.0"
      ]
     },
     "execution_count": 10,
     "metadata": {},
     "output_type": "execute_result"
    }
   ],
   "source": [
    "np.std(iris_z)"
   ]
  },
  {
   "cell_type": "markdown",
   "id": "bf3b70f3",
   "metadata": {},
   "source": [
    "# #Matplotlib"
   ]
  },
  {
   "cell_type": "code",
   "execution_count": 14,
   "id": "e8722ee2",
   "metadata": {},
   "outputs": [
    {
     "data": {
      "image/png": "[encoded data removed]",
      "text/plain": [
       "<Figure size 432x288 with 1 Axes>"
      ]
     },
     "metadata": {
      "needs_background": "light"
     },
     "output_type": "display_data"
    }
   ],
   "source": [
    "import matplotlib.pyplot as plt\n",
    "import numpy as np\n",
    "\n",
    "x = np.arange(0,10,0.2)\n",
    "y = np.sin(x)\n",
    "\n",
    "fig = plt.figure() #mhnje ek blank paper\n",
    "ax = fig.add_subplot(111) # plot mhnje tya paper war kadhlela diagram\n",
    "ax.plot(x,y, color='r', linewidth=3, linestyle=\"--\")\n",
    "\n",
    "fig.savefig('pyplot1.png', dpi = 300)\n",
    "\n",
    "#A figure can have multiple axes on it."
   ]
  },
  {
   "cell_type": "code",
   "execution_count": 12,
   "id": "e86f47bf",
   "metadata": {},
   "outputs": [
    {
     "data": {
      "image/png": "[encoded data removed]",
      "text/plain": [
       "<Figure size 864x288 with 3 Axes>"
      ]
     },
     "metadata": {
      "needs_background": "light"
     },
     "output_type": "display_data"
    }
   ],
   "source": [
    "# 3 axes  - 1 row 3 cols(grid)\n",
    "\n",
    "fig, axes = plt.subplots(1, 3, figsize=(12,4))\n",
    "\n",
    "for ax in axes :\n",
    "    ax.plot(x,y)"
   ]
  },
  {
   "cell_type": "code",
   "execution_count": 15,
   "id": "dfae992e",
   "metadata": {},
   "outputs": [
    {
     "data": {
      "text/plain": [
       "[<matplotlib.lines.Line2D at 0x1ce52ffd820>]"
      ]
     },
     "execution_count": 15,
     "metadata": {},
     "output_type": "execute_result"
    },
    {
     "data": {
      "image/png": "[encoded data removed]",
      "text/plain": [
       "<Figure size 432x288 with 1 Axes>"
      ]
     },
     "metadata": {
      "needs_background": "light"
     },
     "output_type": "display_data"
    }
   ],
   "source": [
    "##Plot types\n",
    "\n",
    "#line plots\n",
    "fig, ax = plt.subplots()\n",
    "ax.plot(x, y)\n"
   ]
  },
  {
   "cell_type": "code",
   "execution_count": 19,
   "id": "03a44da6",
   "metadata": {},
   "outputs": [
    {
     "data": {
      "text/plain": [
       "<BarContainer object of 50 artists>"
      ]
     },
     "execution_count": 19,
     "metadata": {},
     "output_type": "execute_result"
    },
    {
     "data": {
      "image/png": "[encoded data removed]",
      "text/plain": [
       "<Figure size 720x576 with 1 Axes>"
      ]
     },
     "metadata": {
      "needs_background": "light"
     },
     "output_type": "display_data"
    }
   ],
   "source": [
    "#bar plot\n",
    "fig, ax = plt.subplots(figsize=(10,8))\n",
    "ax.bar(x,y)"
   ]
  },
  {
   "cell_type": "code",
   "execution_count": 21,
   "id": "41af70a3",
   "metadata": {},
   "outputs": [
    {
     "data": {
      "text/plain": [
       "<BarContainer object of 50 artists>"
      ]
     },
     "execution_count": 21,
     "metadata": {},
     "output_type": "execute_result"
    },
    {
     "data": {
      "image/png": "[encoded data removed]",
      "text/plain": [
       "<Figure size 720x576 with 1 Axes>"
      ]
     },
     "metadata": {
      "needs_background": "light"
     },
     "output_type": "display_data"
    }
   ],
   "source": [
    "fig, ax = plt.subplots(figsize=(10,8))\n",
    "ax.bar(x,y, width=0.02)"
   ]
  },
  {
   "cell_type": "code",
   "execution_count": 24,
   "id": "08a882b7",
   "metadata": {},
   "outputs": [
    {
     "data": {
      "text/plain": [
       "<matplotlib.collections.PathCollection at 0x1ce58de18b0>"
      ]
     },
     "execution_count": 24,
     "metadata": {},
     "output_type": "execute_result"
    },
    {
     "data": {
      "image/png": "[encoded data removed]",
      "text/plain": [
       "<Figure size 720x576 with 1 Axes>"
      ]
     },
     "metadata": {
      "needs_background": "light"
     },
     "output_type": "display_data"
    }
   ],
   "source": [
    "fig, ax = plt.subplots(figsize=(10,8))\n",
    "ax.scatter(x,y, marker='o', alpha=0.5)"
   ]
  },
  {
   "cell_type": "code",
   "execution_count": null,
   "id": "1b8ffc7e",
   "metadata": {},
   "outputs": [],
   "source": [
    "#box plot , violin plot, histogram,pie"
   ]
  }
 ],
 "metadata": {
  "kernelspec": {
   "display_name": "Python 3 (ipykernel)",
   "language": "python",
   "name": "python3"
  },
  "language_info": {
   "codemirror_mode": {
    "name": "ipython",
    "version": 3
   },
   "file_extension": ".py",
   "mimetype": "text/x-python",
   "name": "python",
   "nbconvert_exporter": "python",
   "pygments_lexer": "ipython3",
   "version": "3.9.12"
  }
 },
 "nbformat": 4,
 "nbformat_minor": 5
}
