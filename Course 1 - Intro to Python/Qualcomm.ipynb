{
 "cells": [
  {
   "cell_type": "code",
   "execution_count": null,
   "id": "c66c0498",
   "metadata": {},
   "outputs": [],
   "source": [
    "class Node\n",
    "    \n",
    "    "
   ]
  },
  {
   "cell_type": "code",
   "execution_count": null,
   "id": "dae17b43",
   "metadata": {},
   "outputs": [],
   "source": [
    "\n",
    "\n",
    "\n",
    "#include <iostream>\n",
    "\n",
    "class Node{\n",
    "        \n",
    "    \n",
    "    \n",
    "}\n",
    "\n",
    "\n",
    "int main(){\n",
    "    \n",
    "    \n",
    "    return 0;\n",
    "}"
   ]
  },
  {
   "cell_type": "code",
   "execution_count": null,
   "id": "eb744a43",
   "metadata": {},
   "outputs": [],
   "source": [
    "class Node :\n",
    "    \n",
    "    def __init__(self, val,prev,next1):\n",
    "        self.val = val\n",
    "        self.prev = 0\n",
    "        self.next1 = 0\n",
    "        \n",
    "        \n",
    "class Queue(Node):\n",
    "    \n",
    "    count = 0\n",
    "    \n",
    "    def isempty():\n",
    "        if Node.val == 0:\n",
    "            return True\n",
    "        \n",
    "    def add():\n",
    "        prev = curr.prev\n",
    "        curr = Node(val)\n",
    "        \n",
    "        if isempty():\n",
    "            prev = curr            \n",
    "        else:\n",
    "            prev.next1 = curr\n",
    "        \n",
    "        count = count + 1\n",
    "                \n",
    "    \n",
    "    def remove():\n",
    "        prev = curr\n",
    "        curr.next1 =\n",
    "        \n",
    "        count  = count -1\n",
    "        \n",
    "        \n",
    "    def length():\n",
    "        return count       \n",
    "        \n",
    "    \n",
    "if __name__ == '__main__':\n",
    "    \n",
    "    val =  input()\n",
    "    Queue.add(val)\n",
    "    \n",
    "    \n",
    "    \n",
    "        "
   ]
  },
  {
   "cell_type": "code",
   "execution_count": null,
   "id": "590eb2b0",
   "metadata": {},
   "outputs": [],
   "source": []
  },
  {
   "cell_type": "code",
   "execution_count": null,
   "id": "07d0bac4",
   "metadata": {},
   "outputs": [],
   "source": []
  },
  {
   "cell_type": "code",
   "execution_count": null,
   "id": "2ebdb784",
   "metadata": {},
   "outputs": [],
   "source": []
  },
  {
   "cell_type": "code",
   "execution_count": null,
   "id": "ea457124",
   "metadata": {},
   "outputs": [],
   "source": []
  },
  {
   "cell_type": "code",
   "execution_count": null,
   "id": "19ff58a8",
   "metadata": {},
   "outputs": [],
   "source": []
  },
  {
   "cell_type": "code",
   "execution_count": null,
   "id": "3147276c",
   "metadata": {},
   "outputs": [],
   "source": []
  },
  {
   "cell_type": "code",
   "execution_count": null,
   "id": "8c409331",
   "metadata": {},
   "outputs": [],
   "source": []
  },
  {
   "cell_type": "code",
   "execution_count": null,
   "id": "408723fe",
   "metadata": {},
   "outputs": [],
   "source": []
  }
 ],
 "metadata": {
  "kernelspec": {
   "display_name": "Python 3 (ipykernel)",
   "language": "python",
   "name": "python3"
  },
  "language_info": {
   "codemirror_mode": {
    "name": "ipython",
    "version": 3
   },
   "file_extension": ".py",
   "mimetype": "text/x-python",
   "name": "python",
   "nbconvert_exporter": "python",
   "pygments_lexer": "ipython3",
   "version": "3.9.12"
  }
 },
 "nbformat": 4,
 "nbformat_minor": 5
}
